{
 "cells": [
  {
   "cell_type": "code",
   "execution_count": 2,
   "metadata": {
    "collapsed": false
   },
   "outputs": [],
   "source": [
    "%matplotlib inline\n",
    "import matplotlib\n",
    "import matplotlib.pyplot as plt\n",
    "import tensorflow as tf\n",
    "import numpy as np\n",
    "\n",
    "from models import ALEXNET, VGGNET, LENET\n",
    "from tensorflow.examples.tutorials.mnist import input_data\n",
    "\n",
    "def show_result(images, labels, test_pred, i) :\n",
    "    plt.imshow(images[i].reshape(28,28), interpolation='nearest')\n",
    "    plt.axis('off')\n",
    "    plt.show()\n",
    "\n",
    "    target = np.argmax(labels[i])\n",
    "    pred = np.argmax(test_pred[i])\n",
    "    print(\"Target: \" + str(target))\n",
    "    print(\"Prediction: %d by %.2f percent\" % (pred, (test_pred[i][pred])*100))\n",
    "\n",
    "def test(model, sess, saver, test_data, function, difficulty, batch_size):\n",
    "    \"\"\"\n",
    "    Tester\n",
    "    \"\"\"\n",
    "    with tf.Session() as _sess:\n",
    "        _sess.run(tf.local_variables_initializer())\n",
    "\n",
    "        batch = test_data.next_batch(batch_size)\n",
    "        images = [img.reshape(28,28,1) for img in batch[0]]\n",
    "        labels = batch[1]\n",
    "        test_metric, test_pred, test_pred_one = model.eval_metric(images, labels)\n",
    "        \n",
    "        show_result(images, labels, test_pred, 0)\n",
    "        show_result(images, labels, test_pred, 1)\n",
    "        show_result(images, labels, test_pred, 2)\n",
    "        show_result(images, labels, test_pred, 3)\n",
    "        show_result(images, labels, test_pred, 4)\n",
    "\n",
    "def run(model_name, function, difficulty, batch_size, learning_rate = 0.0025) :\n",
    "    with tf.Session() as sess:\n",
    "            # Define computation graph & Initialize\n",
    "            print('Building network & initializing variables')\n",
    "            if model_name == 'ALEXNET':\n",
    "                model = ALEXNET(function, learning_rate, difficulty)\n",
    "            elif model_name == 'VGGNET':\n",
    "                model = VGGNET(function, learning_rate, difficulty)\n",
    "            else:\n",
    "                model = LENET(function, learning_rate, difficulty)\n",
    "\n",
    "            model.init_sess(sess)\n",
    "            saver = tf.train.Saver()\n",
    "\n",
    "            # Process data\n",
    "            print(\"Load dataset\")\n",
    "            dataset = input_data.read_data_sets('MNIST_data', one_hot=True)\n",
    "            test_data = dataset.test\n",
    "\n",
    "\n",
    "            print('Loading best checkpointed model')\n",
    "            saver.restore(sess, \"../\"+model.model_filename)\n",
    "            test(model, sess, saver, test_data, function, difficulty, batch_size)"
   ]
  },
  {
   "cell_type": "code",
   "execution_count": 3,
   "metadata": {
    "collapsed": false
   },
   "outputs": [
    {
     "name": "stdout",
     "output_type": "stream",
     "text": [
      "Building network & initializing variables\n",
      "Load dataset\n",
      "Extracting MNIST_data/train-images-idx3-ubyte.gz\n",
      "Extracting MNIST_data/train-labels-idx1-ubyte.gz\n",
      "Extracting MNIST_data/t10k-images-idx3-ubyte.gz\n",
      "Extracting MNIST_data/t10k-labels-idx1-ubyte.gz\n",
      "Loading best checkpointed model\n",
      "INFO:tensorflow:Restoring parameters from ../model/LE_classify_hard.ckpt\n"
     ]
    },
    {
     "data": {
      "image/png": "[encoded data removed]",
      "text/plain": [
       "<matplotlib.figure.Figure at 0x1237da9e8>"
      ]
     },
     "metadata": {},
     "output_type": "display_data"
    },
    {
     "name": "stdout",
     "output_type": "stream",
     "text": [
      "Target: 9\n",
      "Prediction: 9 by 99.72 percent\n"
     ]
    },
    {
     "data": {
      "image/png": "[encoded data removed]",
      "text/plain": [
       "<matplotlib.figure.Figure at 0x130304da0>"
      ]
     },
     "metadata": {},
     "output_type": "display_data"
    },
    {
     "name": "stdout",
     "output_type": "stream",
     "text": [
      "Target: 2\n",
      "Prediction: 2 by 76.38 percent\n"
     ]
    },
    {
     "data": {
      "image/png": "[encoded data removed]",
      "text/plain": [
       "<matplotlib.figure.Figure at 0x130ffb9e8>"
      ]
     },
     "metadata": {},
     "output_type": "display_data"
    },
    {
     "name": "stdout",
     "output_type": "stream",
     "text": [
      "Target: 8\n",
      "Prediction: 8 by 97.63 percent\n"
     ]
    },
    {
     "data": {
      "image/png": "[encoded data removed]",
      "text/plain": [
       "<matplotlib.figure.Figure at 0x1317e3d30>"
      ]
     },
     "metadata": {},
     "output_type": "display_data"
    },
    {
     "name": "stdout",
     "output_type": "stream",
     "text": [
      "Target: 3\n",
      "Prediction: 3 by 99.80 percent\n"
     ]
    },
    {
     "data": {
      "image/png": "[encoded data removed]",
      "text/plain": [
       "<matplotlib.figure.Figure at 0x13196a978>"
      ]
     },
     "metadata": {},
     "output_type": "display_data"
    },
    {
     "name": "stdout",
     "output_type": "stream",
     "text": [
      "Target: 4\n",
      "Prediction: 4 by 100.00 percent\n"
     ]
    }
   ],
   "source": [
    "run(\"LENET\", \"classify\", \"hard\", 10)"
   ]
  }
 ],
 "metadata": {
  "kernelspec": {
   "display_name": "Python 3",
   "language": "python",
   "name": "python3"
  },
  "language_info": {
   "codemirror_mode": {
    "name": "ipython",
    "version": 3
   },
   "file_extension": ".py",
   "mimetype": "text/x-python",
   "name": "python",
   "nbconvert_exporter": "python",
   "pygments_lexer": "ipython3",
   "version": "3.6.0"
  }
 },
 "nbformat": 4,
 "nbformat_minor": 2
}
