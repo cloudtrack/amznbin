{
 "cells": [
  {
   "cell_type": "code",
   "execution_count": 1,
   "metadata": {
    "collapsed": false
   },
   "outputs": [],
   "source": [
    "%matplotlib inline\n",
    "import matplotlib\n",
    "import matplotlib.pyplot as plt\n",
    "import tensorflow as tf\n",
    "import numpy as np\n",
    "\n",
    "from models import ALEXNET, VGGNET, LENET\n",
    "from tensorflow.examples.tutorials.mnist import input_data\n",
    "\n",
    "def show_result(images, labels, test_pred, i) :\n",
    "    plt.imshow(images[i].reshape(28,28), interpolation='nearest')\n",
    "    plt.axis('off')\n",
    "    plt.show()\n",
    "\n",
    "    target = np.argmax(labels[i])\n",
    "    pred = np.argmax(test_pred[i])\n",
    "    print(\"Target: \" + str(target))\n",
    "    print(\"Prediction: %d by %.2f percent\" % (pred, (test_pred[i][pred])*100))\n",
    "\n",
    "def test(model, sess, saver, test_data, function, difficulty, batch_size):\n",
    "    \"\"\"\n",
    "    Tester\n",
    "    \"\"\"\n",
    "    with tf.Session() as _sess:\n",
    "        _sess.run(tf.local_variables_initializer())\n",
    "        final_test_metric = 0\n",
    "        for iter in range(10) :\n",
    "            batch = test_data.next_batch(batch_size)\n",
    "            images = [img.reshape(28,28,1) for img in batch[0]]\n",
    "            labels = batch[1]\n",
    "            test_metric, test_pred, test_pred_one = model.eval_metric(images, labels)\n",
    "            final_test_metric = final_test_metric + test_metric\n",
    "            for i in range(batch_size):\n",
    "                if i == 0 or (np.argmax(labels[i]) != np.argmax(test_pred[i])):\n",
    "                    show_result(images, labels, test_pred, i)\n",
    "        print('Final test accuracy: %.2f percent' % (final_test_metric/10))\n",
    "\n",
    "def run(model_name, function, difficulty, batch_size, learning_rate = 0.0025) :\n",
    "    with tf.Session() as sess:\n",
    "            # Define computation graph & Initialize\n",
    "            print('Building network & initializing variables')\n",
    "            if model_name == 'ALEXNET':\n",
    "                model = ALEXNET(function, learning_rate, difficulty)\n",
    "            elif model_name == 'VGGNET':\n",
    "                model = VGGNET(function, learning_rate, difficulty)\n",
    "            else:\n",
    "                model = LENET(function, learning_rate, difficulty)\n",
    "\n",
    "            model.init_sess(sess)\n",
    "            saver = tf.train.Saver()\n",
    "\n",
    "            # Process data\n",
    "            print(\"Load dataset\")\n",
    "            dataset = input_data.read_data_sets('MNIST_data', one_hot=True)\n",
    "            test_data = dataset.test\n",
    "\n",
    "\n",
    "            print('Loading best checkpointed model')\n",
    "            saver.restore(sess, \"../\"+model.model_filename)\n",
    "            test(model, sess, saver, test_data, function, difficulty, batch_size)"
   ]
  },
  {
   "cell_type": "code",
   "execution_count": 2,
   "metadata": {
    "collapsed": false
   },
   "outputs": [
    {
     "name": "stdout",
     "output_type": "stream",
     "text": [
      "Building network & initializing variables\n",
      "Load dataset\n",
      "Extracting MNIST_data/train-images-idx3-ubyte.gz\n",
      "Extracting MNIST_data/train-labels-idx1-ubyte.gz\n",
      "Extracting MNIST_data/t10k-images-idx3-ubyte.gz\n",
      "Extracting MNIST_data/t10k-labels-idx1-ubyte.gz\n",
      "Loading best checkpointed model\n",
      "INFO:tensorflow:Restoring parameters from ../model/LE_classify_hard.ckpt\n"
     ]
    },
    {
     "data": {
      "image/png": "[encoded data removed]",
      "text/plain": [
       "<matplotlib.figure.Figure at 0x1255e0278>"
      ]
     },
     "metadata": {},
     "output_type": "display_data"
    },
    {
     "name": "stdout",
     "output_type": "stream",
     "text": [
      "Target: 7\n",
      "Prediction: 4 by 42.70 percent\n"
     ]
    },
    {
     "data": {
      "image/png": "[encoded data removed]",
      "text/plain": [
       "<matplotlib.figure.Figure at 0x132021780>"
      ]
     },
     "metadata": {},
     "output_type": "display_data"
    },
    {
     "name": "stdout",
     "output_type": "stream",
     "text": [
      "Target: 6\n",
      "Prediction: 6 by 99.97 percent\n"
     ]
    },
    {
     "data": {
      "image/png": "[encoded data removed]",
      "text/plain": [
       "<matplotlib.figure.Figure at 0x132d1f0f0>"
      ]
     },
     "metadata": {},
     "output_type": "display_data"
    },
    {
     "name": "stdout",
     "output_type": "stream",
     "text": [
      "Target: 7\n",
      "Prediction: 7 by 98.56 percent\n"
     ]
    },
    {
     "data": {
      "image/png": "[encoded data removed]",
      "text/plain": [
       "<matplotlib.figure.Figure at 0x1335c0390>"
      ]
     },
     "metadata": {},
     "output_type": "display_data"
    },
    {
     "name": "stdout",
     "output_type": "stream",
     "text": [
      "Target: 8\n",
      "Prediction: 5 by 75.91 percent\n"
     ]
    },
    {
     "data": {
      "image/png": "[encoded data removed]",
      "text/plain": [
       "<matplotlib.figure.Figure at 0x13375bf28>"
      ]
     },
     "metadata": {},
     "output_type": "display_data"
    },
    {
     "name": "stdout",
     "output_type": "stream",
     "text": [
      "Target: 8\n",
      "Prediction: 8 by 98.81 percent\n"
     ]
    },
    {
     "data": {
      "image/png": "[encoded data removed]",
      "text/plain": [
       "<matplotlib.figure.Figure at 0x1338e86d8>"
      ]
     },
     "metadata": {},
     "output_type": "display_data"
    },
    {
     "name": "stdout",
     "output_type": "stream",
     "text": [
      "Target: 6\n",
      "Prediction: 6 by 99.98 percent\n"
     ]
    },
    {
     "data": {
      "image/png": "[encoded data removed]",
      "text/plain": [
       "<matplotlib.figure.Figure at 0x133b5d898>"
      ]
     },
     "metadata": {},
     "output_type": "display_data"
    },
    {
     "name": "stdout",
     "output_type": "stream",
     "text": [
      "Target: 1\n",
      "Prediction: 1 by 92.17 percent\n"
     ]
    },
    {
     "data": {
      "image/png": "[encoded data removed]",
      "text/plain": [
       "<matplotlib.figure.Figure at 0x13372d668>"
      ]
     },
     "metadata": {},
     "output_type": "display_data"
    },
    {
     "name": "stdout",
     "output_type": "stream",
     "text": [
      "Target: 7\n",
      "Prediction: 9 by 89.15 percent\n"
     ]
    },
    {
     "data": {
      "image/png": "[encoded data removed]",
      "text/plain": [
       "<matplotlib.figure.Figure at 0x133fee898>"
      ]
     },
     "metadata": {},
     "output_type": "display_data"
    },
    {
     "name": "stdout",
     "output_type": "stream",
     "text": [
      "Target: 7\n",
      "Prediction: 7 by 99.94 percent\n"
     ]
    },
    {
     "data": {
      "image/png": "[encoded data removed]",
      "text/plain": [
       "<matplotlib.figure.Figure at 0x134079828>"
      ]
     },
     "metadata": {},
     "output_type": "display_data"
    },
    {
     "name": "stdout",
     "output_type": "stream",
     "text": [
      "Target: 8\n",
      "Prediction: 4 by 63.66 percent\n"
     ]
    },
    {
     "data": {
      "image/png": "[encoded data removed]",
      "text/plain": [
       "<matplotlib.figure.Figure at 0x1343a53c8>"
      ]
     },
     "metadata": {},
     "output_type": "display_data"
    },
    {
     "name": "stdout",
     "output_type": "stream",
     "text": [
      "Target: 8\n",
      "Prediction: 8 by 99.95 percent\n"
     ]
    },
    {
     "data": {
      "image/png": "[encoded data removed]",
      "text/plain": [
       "<matplotlib.figure.Figure at 0x1246c9470>"
      ]
     },
     "metadata": {},
     "output_type": "display_data"
    },
    {
     "name": "stdout",
     "output_type": "stream",
     "text": [
      "Target: 2\n",
      "Prediction: 2 by 97.16 percent\n",
      "Final test accuracy: 96.00 percent\n"
     ]
    }
   ],
   "source": [
    "run(\"LENET\", \"classify\", \"hard\", 10)"
   ]
  }
 ],
 "metadata": {
  "kernelspec": {
   "display_name": "Python 3",
   "language": "python",
   "name": "python3"
  },
  "language_info": {
   "codemirror_mode": {
    "name": "ipython",
    "version": 3
   },
   "file_extension": ".py",
   "mimetype": "text/x-python",
   "name": "python",
   "nbconvert_exporter": "python",
   "pygments_lexer": "ipython3",
   "version": "3.6.0"
  }
 },
 "nbformat": 4,
 "nbformat_minor": 2
}
