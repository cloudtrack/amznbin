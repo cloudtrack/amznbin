{
 "cells": [
  {
   "cell_type": "code",
   "execution_count": 1,
   "metadata": {
    "collapsed": false
   },
   "outputs": [],
   "source": [
    "%matplotlib inline\n",
    "import matplotlib\n",
    "import matplotlib.pyplot as plt\n",
    "import tensorflow as tf\n",
    "import numpy as np\n",
    "\n",
    "from models import ALEXNET, VGGNET, LENET\n",
    "from tensorflow.examples.tutorials.mnist import input_data\n",
    "\n",
    "def show_result(images, labels, test_pred, i) :\n",
    "    plt.imshow(images[i].reshape(28,28), interpolation='nearest')\n",
    "    plt.axis('off')\n",
    "    plt.show()\n",
    "\n",
    "    target = np.argmax(labels[i])\n",
    "    pred = np.argmax(test_pred[i])\n",
    "    # print(\"Prediction: %d by %.2f percent\" % (pred, (test_pred[i][pred])*100))\n",
    "    print(\"Prediction: %d\" % pred)\n",
    "    print(\"Target: \" + str(target))\n",
    "\n",
    "def test(model, sess, saver, test_data, function, difficulty, batch_size):\n",
    "    \"\"\"\n",
    "    Tester\n",
    "    \"\"\"\n",
    "    with tf.Session() as _sess:\n",
    "        _sess.run(tf.local_variables_initializer())\n",
    "        final_test_metric = 0\n",
    "        for iter in range(10) :\n",
    "            batch = test_data.next_batch(batch_size)\n",
    "            images = [img.reshape(28,28,1) for img in batch[0]]\n",
    "            labels = batch[1]\n",
    "            test_metric, test_pred, test_pred_one = model.eval_metric(images, labels)\n",
    "            final_test_metric = final_test_metric + test_metric\n",
    "            for i in range(batch_size):\n",
    "                if i == 0 or (np.argmax(labels[i]) != np.argmax(test_pred[i])):\n",
    "                    show_result(images, labels, test_pred, i)\n",
    "        print('Final test accuracy: %.2f percent' % (final_test_metric/10))\n",
    "\n",
    "def run(model_name, function, difficulty, batch_size, learning_rate = 0.0025) :\n",
    "    with tf.Session() as sess:\n",
    "            # Define computation graph & Initialize\n",
    "            print('Building network & initializing variables')\n",
    "            if model_name == 'ALEXNET':\n",
    "                model = ALEXNET(function, learning_rate, difficulty)\n",
    "            elif model_name == 'VGGNET':\n",
    "                model = VGGNET(function, learning_rate, difficulty)\n",
    "            else:\n",
    "                model = LENET(function, learning_rate, difficulty)\n",
    "\n",
    "            model.init_sess(sess)\n",
    "            saver = tf.train.Saver()\n",
    "\n",
    "            # Process data\n",
    "            print(\"Load dataset\")\n",
    "            dataset = input_data.read_data_sets('MNIST_data', one_hot=True)\n",
    "            test_data = dataset.test\n",
    "\n",
    "\n",
    "            print('Loading best checkpointed model')\n",
    "            saver.restore(sess, \"../\"+model.model_filename)\n",
    "            test(model, sess, saver, test_data, function, difficulty, batch_size)"
   ]
  },
  {
   "cell_type": "code",
   "execution_count": 2,
   "metadata": {
    "collapsed": false
   },
   "outputs": [
    {
     "name": "stdout",
     "output_type": "stream",
     "text": [
      "Building network & initializing variables\n",
      "Load dataset\n",
      "Extracting MNIST_data/train-images-idx3-ubyte.gz\n",
      "Extracting MNIST_data/train-labels-idx1-ubyte.gz\n",
      "Extracting MNIST_data/t10k-images-idx3-ubyte.gz\n",
      "Extracting MNIST_data/t10k-labels-idx1-ubyte.gz\n",
      "Loading best checkpointed model\n",
      "INFO:tensorflow:Restoring parameters from ../model/LE_classify_hard.ckpt\n"
     ]
    },
    {
     "data": {
      "image/png": "[encoded data removed]",
      "text/plain": [
       "<matplotlib.figure.Figure at 0x116cb9f60>"
      ]
     },
     "metadata": {},
     "output_type": "display_data"
    },
    {
     "name": "stdout",
     "output_type": "stream",
     "text": [
      "Prediction: 0\n",
      "Target: 0\n"
     ]
    },
    {
     "data": {
      "image/png": "[encoded data removed]",
      "text/plain": [
       "<matplotlib.figure.Figure at 0x121fe5c18>"
      ]
     },
     "metadata": {},
     "output_type": "display_data"
    },
    {
     "name": "stdout",
     "output_type": "stream",
     "text": [
      "Prediction: 7\n",
      "Target: 7\n"
     ]
    },
    {
     "data": {
      "image/png": "[encoded data removed]",
      "text/plain": [
       "<matplotlib.figure.Figure at 0x127a425c0>"
      ]
     },
     "metadata": {},
     "output_type": "display_data"
    },
    {
     "name": "stdout",
     "output_type": "stream",
     "text": [
      "Prediction: 0\n",
      "Target: 0\n"
     ]
    },
    {
     "data": {
      "image/png": "[encoded data removed]",
      "text/plain": [
       "<matplotlib.figure.Figure at 0x128f6c080>"
      ]
     },
     "metadata": {},
     "output_type": "display_data"
    },
    {
     "name": "stdout",
     "output_type": "stream",
     "text": [
      "Prediction: 4\n",
      "Target: 4\n"
     ]
    },
    {
     "data": {
      "image/png": "[encoded data removed]",
      "text/plain": [
       "<matplotlib.figure.Figure at 0x1292f2198>"
      ]
     },
     "metadata": {},
     "output_type": "display_data"
    },
    {
     "name": "stdout",
     "output_type": "stream",
     "text": [
      "Prediction: 4\n",
      "Target: 4\n"
     ]
    },
    {
     "data": {
      "image/png": "[encoded data removed]",
      "text/plain": [
       "<matplotlib.figure.Figure at 0x12932aa58>"
      ]
     },
     "metadata": {},
     "output_type": "display_data"
    },
    {
     "name": "stdout",
     "output_type": "stream",
     "text": [
      "Prediction: 6\n",
      "Target: 6\n"
     ]
    },
    {
     "data": {
      "image/png": "[encoded data removed]",
      "text/plain": [
       "<matplotlib.figure.Figure at 0x12968d358>"
      ]
     },
     "metadata": {},
     "output_type": "display_data"
    },
    {
     "name": "stdout",
     "output_type": "stream",
     "text": [
      "Prediction: 4\n",
      "Target: 4\n"
     ]
    },
    {
     "data": {
      "image/png": "[encoded data removed]",
      "text/plain": [
       "<matplotlib.figure.Figure at 0x129775588>"
      ]
     },
     "metadata": {},
     "output_type": "display_data"
    },
    {
     "name": "stdout",
     "output_type": "stream",
     "text": [
      "Prediction: 7\n",
      "Target: 0\n"
     ]
    },
    {
     "data": {
      "image/png": "[encoded data removed]",
      "text/plain": [
       "<matplotlib.figure.Figure at 0x1299795c0>"
      ]
     },
     "metadata": {},
     "output_type": "display_data"
    },
    {
     "name": "stdout",
     "output_type": "stream",
     "text": [
      "Prediction: 9\n",
      "Target: 9\n"
     ]
    },
    {
     "data": {
      "image/png": "[encoded data removed]",
      "text/plain": [
       "<matplotlib.figure.Figure at 0x129ac72e8>"
      ]
     },
     "metadata": {},
     "output_type": "display_data"
    },
    {
     "name": "stdout",
     "output_type": "stream",
     "text": [
      "Prediction: 6\n",
      "Target: 6\n"
     ]
    },
    {
     "data": {
      "image/png": "[encoded data removed]",
      "text/plain": [
       "<matplotlib.figure.Figure at 0x129deba58>"
      ]
     },
     "metadata": {},
     "output_type": "display_data"
    },
    {
     "name": "stdout",
     "output_type": "stream",
     "text": [
      "Prediction: 8\n",
      "Target: 8\n",
      "Final test accuracy: 99.00 percent\n"
     ]
    }
   ],
   "source": [
    "run(\"LENET\", \"classify\", \"hard\", 10)"
   ]
  }
 ],
 "metadata": {
  "kernelspec": {
   "display_name": "Python 3",
   "language": "python",
   "name": "python3"
  },
  "language_info": {
   "codemirror_mode": {
    "name": "ipython",
    "version": 3
   },
   "file_extension": ".py",
   "mimetype": "text/x-python",
   "name": "python",
   "nbconvert_exporter": "python",
   "pygments_lexer": "ipython3",
   "version": "3.6.0"
  }
 },
 "nbformat": 4,
 "nbformat_minor": 2
}
