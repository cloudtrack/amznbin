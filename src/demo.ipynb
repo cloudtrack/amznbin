{
 "cells": [
  {
   "cell_type": "code",
   "execution_count": 1,
   "metadata": {
    "collapsed": true
   },
   "outputs": [],
   "source": [
    "%matplotlib inline\n",
    "import matplotlib\n",
    "import matplotlib.pyplot as plt\n",
    "import tensorflow as tf\n",
    "import numpy as np\n",
    "\n",
    "from dataset import load_dataset\n",
    "from models import ALEXNET, VGGNET, LENET\n",
    "\n",
    "def show_result(images, labels, test_pred, i) :\n",
    "    plt.imshow(images[i], interpolation='nearest')\n",
    "    plt.axis('off')\n",
    "    plt.show()\n",
    "\n",
    "    target = np.argmax(labels[i])\n",
    "    if target == 11:\n",
    "        print(\"Target: More than 10 items\")\n",
    "    else :\n",
    "        print(\"Target: \" + str(target) + \" items\")\n",
    "\n",
    "    pred = np.argmax(test_pred[i])\n",
    "    if target == 11:\n",
    "        print(\"Prediction: More than 10 items\")\n",
    "    else :\n",
    "        print(\"Prediction: %d items by %.2f percent\" % (pred, (test_pred[i][pred])*100))\n",
    "\n",
    "def test(model, sess, saver, test_data, function, difficulty, batch_size):\n",
    "    \"\"\"\n",
    "    Tester\n",
    "    \"\"\"\n",
    "    batch_image, batch_image_index = test_data.get_batch_tensor(batch_size=batch_size)\n",
    "\n",
    "    with tf.Session() as _sess:\n",
    "        _sess.run(tf.local_variables_initializer())\n",
    "        coord = tf.train.Coordinator()\n",
    "        threads = tf.train.start_queue_runners(sess=_sess, coord=coord)\n",
    "\n",
    "        images, indices = _sess.run([batch_image, batch_image_index])\n",
    "        labels = test_data.get_labels_from_indices(indices, function, difficulty)\n",
    "        test_metric, test_pred = model.eval_metric(images, labels)\n",
    "        \n",
    "        show_result(images, labels, test_pred, 0)\n",
    "        show_result(images, labels, test_pred, 1)\n",
    "        show_result(images, labels, test_pred, 2)\n",
    "        show_result(images, labels, test_pred, 3)\n",
    "        show_result(images, labels, test_pred, 4)\n",
    "        \n",
    "        coord.request_stop()\n",
    "        coord.join(threads)\n",
    "\n",
    "def run(model_name, function, difficulty, batch_size, learning_rate = 0.0025) :\n",
    "    with tf.Session() as sess:\n",
    "            # Define computation graph & Initialize\n",
    "            print('Building network & initializing variables')\n",
    "            if model_name == 'ALEXNET':\n",
    "                model = ALEXNET(function, learning_rate, difficulty)\n",
    "            elif model_name == 'VGGNET':\n",
    "                model = VGGNET(function, learning_rate, difficulty)\n",
    "            else:\n",
    "                model = LENET(function, learning_rate, difficulty)\n",
    "\n",
    "            model.init_sess(sess)\n",
    "            saver = tf.train.Saver()\n",
    "\n",
    "            # Process data\n",
    "            print(\"Load dataset\")\n",
    "            dataset = load_dataset()\n",
    "            test_data = dataset.test\n",
    "\n",
    "            print('Loading best checkpointed model')\n",
    "            saver.restore(sess, \"../\"+model.model_filename)\n",
    "            test(model, sess, saver, test_data, function, difficulty, batch_size)"
   ]
  },
  {
   "cell_type": "code",
   "execution_count": null,
   "metadata": {
    "collapsed": true
   },
   "outputs": [],
   "source": [
    "run(\"VGGNET\", \"count\", \"moderate\", 98)"
   ]
  }
 ],
 "metadata": {
  "kernelspec": {
   "display_name": "Python 3",
   "language": "python",
   "name": "python3"
  },
  "language_info": {
   "codemirror_mode": {
    "name": "ipython",
    "version": 3
   },
   "file_extension": ".py",
   "mimetype": "text/x-python",
   "name": "python",
   "nbconvert_exporter": "python",
   "pygments_lexer": "ipython3",
   "version": "3.6.0"
  }
 },
 "nbformat": 4,
 "nbformat_minor": 2
}
