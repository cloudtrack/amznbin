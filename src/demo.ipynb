{
 "cells": [
  {
   "cell_type": "code",
   "execution_count": 1,
   "metadata": {
    "collapsed": true
   },
   "outputs": [],
   "source": [
    "import argparse\n",
    "import time\n",
    "\n",
    "import tensorflow as tf\n",
    "from PIL import ImageDraw, Image\n",
    "from numpy.distutils.fcompiler import str2bool\n",
    "\n",
    "from constants import VALIDATION_SIZE, TEST_SIZE\n",
    "from dataset import load_dataset\n",
    "from models import ALEXNET, VGGNET, LENET\n",
    "\n",
    "def test(model, sess, saver, test_data, function, difficulty, log=True):\n",
    "    \"\"\"\n",
    "    Tester\n",
    "    \"\"\"\n",
    "    batch_image, batch_image_index = test_data.get_batch_tensor(batch_size=TEST_SIZE)\n",
    "\n",
    "    if function == 'count' and difficulty == 'hard':\n",
    "        metric = 'rmse'\n",
    "    else:\n",
    "        metric = 'accuracy'\n",
    "\n",
    "    with tf.Session() as _sess:\n",
    "        _sess.run(tf.local_variables_initializer())\n",
    "        coord = tf.train.Coordinator()\n",
    "        threads = tf.train.start_queue_runners(sess=_sess, coord=coord)\n",
    "        try:\n",
    "            while not coord.should_stop():\n",
    "                images, indices = _sess.run([batch_image, batch_image_index])\n",
    "                labels = test_data.get_labels_from_indices(indices, function, difficulty)\n",
    "                test_metric, test_pred = model.eval_metric(images, labels)\n",
    "                img = Image.fromarray(images[0])\n",
    "                draw = ImageDraw.Draw(img)\n",
    "                #draw.text((0, 0), 'label: {0}'.format(labels[0]), (255, 255, 255))\n",
    "                img.show()\n",
    "                print('test ' + metric + ': %.4f' % (test_metric))\n",
    "                print(labels[0])\n",
    "                print(test_pred)\n",
    "        except tf.errors.OutOfRangeError:\n",
    "            print('Something went wrong while testing')\n",
    "        finally:\n",
    "            coord.request_stop()\n",
    "            coord.join(threads)\n",
    "        return test_metric\n",
    "\n",
    "def run(model_name, function, difficulty, learning_rate = 0.0025) :\n",
    "    with tf.Session() as sess:\n",
    "            # Define computation graph & Initialize\n",
    "            print('Building network & initializing variables')\n",
    "            if model_name == 'ALEXNET':\n",
    "                model = ALEXNET(function, learning_rate, difficulty)\n",
    "            elif model_name == 'VGGNET':\n",
    "                model = VGGNET(function, learning_rate, difficulty)\n",
    "            else:\n",
    "                model = LENET(function, learning_rate, difficulty)\n",
    "\n",
    "            model.init_sess(sess)\n",
    "            saver = tf.train.Saver()\n",
    "\n",
    "            # Process data\n",
    "            print(\"Load dataset\")\n",
    "            dataset = load_dataset()\n",
    "            test_data = dataset.test\n",
    "\n",
    "            print('Loading best checkpointed model')\n",
    "            saver.restore(sess, model.model_filename)\n",
    "            test_metric = test(model, sess, saver, test_data, function, difficulty)"
   ]
  },
  {
   "cell_type": "code",
   "execution_count": null,
   "metadata": {
    "collapsed": true
   },
   "outputs": [],
   "source": [
    "run(\"ALEXNET\", \"count\", \"moderate\")"
   ]
  }
 ],
 "metadata": {
  "kernelspec": {
   "display_name": "Python 3",
   "language": "python",
   "name": "python3"
  },
  "language_info": {
   "codemirror_mode": {
    "name": "ipython",
    "version": 3
   },
   "file_extension": ".py",
   "mimetype": "text/x-python",
   "name": "python",
   "nbconvert_exporter": "python",
   "pygments_lexer": "ipython3",
   "version": "3.6.0"
  }
 },
 "nbformat": 4,
 "nbformat_minor": 2
}
